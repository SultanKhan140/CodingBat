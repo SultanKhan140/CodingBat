{
 "cells": [
  {
   "cell_type": "markdown",
   "id": "eb8bf4a8",
   "metadata": {},
   "source": [
    "1.Return the number of even ints in the given array. Note: the % \"mod\" operator computes the remainder, e.g. 5 % 2 is 1."
   ]
  },
  {
   "cell_type": "code",
   "execution_count": 2,
   "id": "4134e05c",
   "metadata": {},
   "outputs": [
    {
     "data": {
      "text/plain": [
       "2"
      ]
     },
     "execution_count": 2,
     "metadata": {},
     "output_type": "execute_result"
    }
   ],
   "source": [
    "def count_evens(nums):\n",
    "    count=0\n",
    "    for i in nums:\n",
    "        if i%2==0:\n",
    "            count+=1\n",
    "    return count\n",
    "count_evens([2, 11, 9, 0])"
   ]
  },
  {
   "cell_type": "markdown",
   "id": "903dbd0d",
   "metadata": {},
   "source": [
    "2.Given an array length 1 or more of ints, return the difference between the largest and smallest values in the array. Note: the built-in min(v1, v2) and max(v1, v2) functions return the smaller or larger of two values."
   ]
  },
  {
   "cell_type": "code",
   "execution_count": 1,
   "id": "e4575963",
   "metadata": {},
   "outputs": [
    {
     "data": {
      "text/plain": [
       "8"
      ]
     },
     "execution_count": 1,
     "metadata": {},
     "output_type": "execute_result"
    }
   ],
   "source": [
    "def big_diff(nums):\n",
    "    return max(nums)-min(nums)\n",
    "big_diff([5, 1, 6, 1, 9, 9])"
   ]
  },
  {
   "cell_type": "markdown",
   "id": "ed05770c",
   "metadata": {},
   "source": [
    "3.Return the \"centered\" average of an array of ints, which we'll say is the mean average of the values, except ignoring the largest and smallest values in the array. If there are multiple copies of the smallest value, ignore just one copy, and likewise for the largest value. Use int division to produce the final average. You may assume that the array is length 3 or more."
   ]
  },
  {
   "cell_type": "code",
   "execution_count": 5,
   "id": "b15053d3",
   "metadata": {},
   "outputs": [
    {
     "data": {
      "text/plain": [
       "6"
      ]
     },
     "execution_count": 5,
     "metadata": {},
     "output_type": "execute_result"
    }
   ],
   "source": [
    "def centered_average(nums):\n",
    "    max_value = nums[0]\n",
    "    min_value = nums[0]\n",
    "    sum = 0\n",
    "    for x in nums:\n",
    "        max_value = max(max_value, x)\n",
    "        min_value = min(min_value, x)\n",
    "        sum += x\n",
    "    return (sum - max_value - min_value) // (len(nums) - 2)\n",
    "centered_average([6, 4, 8, 12, 3])"
   ]
  },
  {
   "cell_type": "markdown",
   "id": "4a3de0f4",
   "metadata": {},
   "source": [
    "4.Return the sum of the numbers in the array, returning 0 for an empty array. Except the number 13 is very unlucky, so it does not count and numbers that come immediately after a 13 also do not count."
   ]
  },
  {
   "cell_type": "code",
   "execution_count": 1,
   "id": "7c38a05e",
   "metadata": {},
   "outputs": [
    {
     "data": {
      "text/plain": [
       "4"
      ]
     },
     "execution_count": 1,
     "metadata": {},
     "output_type": "execute_result"
    }
   ],
   "source": [
    "def sum13(nums):\n",
    "    return (sum(i for i, j in zip(nums, [0] + nums) if 13 not in (i, j)))\n",
    "\n",
    "sum13([1, 2, 13, 2, 1, 13])"
   ]
  },
  {
   "cell_type": "markdown",
   "id": "1a31601b",
   "metadata": {},
   "source": [
    "5.Return the sum of the numbers in the array, except ignore sections of numbers starting with a 6 and extending to the next 7 (every 6 will be followed by at least one 7). Return 0 for no numbers."
   ]
  },
  {
   "cell_type": "code",
   "execution_count": 2,
   "id": "736ada01",
   "metadata": {},
   "outputs": [
    {
     "data": {
      "text/plain": [
       "2"
      ]
     },
     "execution_count": 2,
     "metadata": {},
     "output_type": "execute_result"
    }
   ],
   "source": [
    "def sum67(nums):\n",
    "    flag = False\n",
    "    sum = 0\n",
    "\n",
    "    for num in nums:\n",
    "        if(num == 6):\n",
    "            flag = True\n",
    "            continue\n",
    "        if(num == 7 and flag is True):\n",
    "            flag = False\n",
    "            continue\n",
    "        if(flag is False):\n",
    "            sum += num\n",
    "    return sum\n",
    "\n",
    "\n",
    "sum67([1, 6, 2, 6, 2, 7, 1, 6, 99, 99, 7])"
   ]
  },
  {
   "cell_type": "markdown",
   "id": "10bca7d7",
   "metadata": {},
   "source": [
    "6.Given an array of ints, return True if the array contains a 2 next to a 2 somewhere."
   ]
  },
  {
   "cell_type": "code",
   "execution_count": 3,
   "id": "1a26892b",
   "metadata": {},
   "outputs": [
    {
     "data": {
      "text/plain": [
       "True"
      ]
     },
     "execution_count": 3,
     "metadata": {},
     "output_type": "execute_result"
    }
   ],
   "source": [
    "def has22(nums):\n",
    "    for i in range(0, len(nums)-1):\n",
    "        if nums[i:i+2] == [2,2]:\n",
    "            return True    \n",
    "    return False\n",
    "has22([2, 2, 1, 2])"
   ]
  }
 ],
 "metadata": {
  "kernelspec": {
   "display_name": "Python 3 (ipykernel)",
   "language": "python",
   "name": "python3"
  },
  "language_info": {
   "codemirror_mode": {
    "name": "ipython",
    "version": 3
   },
   "file_extension": ".py",
   "mimetype": "text/x-python",
   "name": "python",
   "nbconvert_exporter": "python",
   "pygments_lexer": "ipython3",
   "version": "3.9.12"
  }
 },
 "nbformat": 4,
 "nbformat_minor": 5
}
