{
 "cells": [
  {
   "cell_type": "markdown",
   "id": "65f4946e",
   "metadata": {},
   "source": [
    "1.Given a string, return a string where for every char in the original, there are two chars."
   ]
  },
  {
   "cell_type": "code",
   "execution_count": 1,
   "id": "f5c43915",
   "metadata": {},
   "outputs": [
    {
     "data": {
      "text/plain": [
       "'WWoorrdd!!'"
      ]
     },
     "execution_count": 1,
     "metadata": {},
     "output_type": "execute_result"
    }
   ],
   "source": [
    "def double_char(str):\n",
    "    result=''\n",
    "    for i in range(len(str)):\n",
    "        result= result+str[i]+str[i]\n",
    "    return result\n",
    "double_char('Word!')"
   ]
  },
  {
   "cell_type": "markdown",
   "id": "c43d2c13",
   "metadata": {},
   "source": [
    "2.Return the number of times that the string \"hi\" appears anywhere in the given string."
   ]
  },
  {
   "cell_type": "code",
   "execution_count": 3,
   "id": "5b92aafe",
   "metadata": {},
   "outputs": [
    {
     "data": {
      "text/plain": [
       "2"
      ]
     },
     "execution_count": 3,
     "metadata": {},
     "output_type": "execute_result"
    }
   ],
   "source": [
    "def count_hi(str):\n",
    "    return str.count('hi')\n",
    "\n",
    "count_hi('hiho not HOHIhi')"
   ]
  },
  {
   "cell_type": "markdown",
   "id": "2083bbd5",
   "metadata": {},
   "source": [
    "3.Return True if the string \"cat\" and \"dog\" appear the same number of times in the given string."
   ]
  },
  {
   "cell_type": "code",
   "execution_count": 4,
   "id": "3ce04fc9",
   "metadata": {},
   "outputs": [
    {
     "data": {
      "text/plain": [
       "True"
      ]
     },
     "execution_count": 4,
     "metadata": {},
     "output_type": "execute_result"
    }
   ],
   "source": [
    "def cat_dog(str):\n",
    "    if str.count('cat')==str.count('dog'):\n",
    "        return True\n",
    "    else:\n",
    "        return False\n",
    "    \n",
    "cat_dog('catxdogxdogxcat')"
   ]
  },
  {
   "cell_type": "markdown",
   "id": "58b3f2e3",
   "metadata": {},
   "source": [
    "4.Return the number of times that the string \"code\" appears anywhere in the given string, except we'll accept any letter for the 'd', so \"cope\" and \"cooe\" count."
   ]
  },
  {
   "cell_type": "code",
   "execution_count": 2,
   "id": "4d85a05d",
   "metadata": {},
   "outputs": [
    {
     "data": {
      "text/plain": [
       "3"
      ]
     },
     "execution_count": 2,
     "metadata": {},
     "output_type": "execute_result"
    }
   ],
   "source": [
    "def count_code(str):\n",
    "    counter =0\n",
    "    for i in range(len(str)-3):\n",
    "        if str[i]=='c' and str[i+1]=='o' and str[i+3]=='e':\n",
    "            counter=counter+1\n",
    "    return counter\n",
    "count_code('AAcodeBBcoleCCccoreDD')"
   ]
  },
  {
   "cell_type": "markdown",
   "id": "18f9be5d",
   "metadata": {},
   "source": [
    "5.Given two strings, return True if either of the strings appears at the very end of the other string, ignoring upper/lower case differences (in other words, the computation should not be \"case sensitive\"). Note: s.lower() returns the lowercase version of a string."
   ]
  },
  {
   "cell_type": "code",
   "execution_count": 29,
   "id": "6a6d8035",
   "metadata": {},
   "outputs": [
    {
     "data": {
      "text/plain": [
       "False"
      ]
     },
     "execution_count": 29,
     "metadata": {},
     "output_type": "execute_result"
    }
   ],
   "source": [
    "def end_other(a, b):\n",
    "    a = a.lower()\n",
    "    b = b.lower()\n",
    "        \n",
    "    return a.endswith(b) or b.endswith(a)\n",
    "end_other('abcXYZ', 'abcDEF')"
   ]
  },
  {
   "cell_type": "markdown",
   "id": "01329d20",
   "metadata": {},
   "source": [
    "6.Return True if the given string contains an appearance of \"xyz\" where the xyz is not directly preceeded by a period (.). So \"xxyz\" counts but \"x.xyz\" does not"
   ]
  },
  {
   "cell_type": "code",
   "execution_count": null,
   "id": "a9677a99",
   "metadata": {},
   "outputs": [],
   "source": [
    "def xyz_there(str):\n",
    "    return str.count('xyz') > str.count('.xyz')"
   ]
  }
 ],
 "metadata": {
  "kernelspec": {
   "display_name": "Python 3 (ipykernel)",
   "language": "python",
   "name": "python3"
  },
  "language_info": {
   "codemirror_mode": {
    "name": "ipython",
    "version": 3
   },
   "file_extension": ".py",
   "mimetype": "text/x-python",
   "name": "python",
   "nbconvert_exporter": "python",
   "pygments_lexer": "ipython3",
   "version": "3.9.12"
  }
 },
 "nbformat": 4,
 "nbformat_minor": 5
}
