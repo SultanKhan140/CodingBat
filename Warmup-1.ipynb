{
 "cells": [
  {
   "cell_type": "markdown",
   "id": "8bedd5f3",
   "metadata": {},
   "source": [
    "1.The parameter weekday is True if it is a weekday, and the parameter vacation is True if we are on vacation. We sleep in if it is not a weekday or we're on vacation. Return True if we sleep in."
   ]
  },
  {
   "cell_type": "code",
   "execution_count": 9,
   "id": "41cbbc49",
   "metadata": {},
   "outputs": [
    {
     "data": {
      "text/plain": [
       "True"
      ]
     },
     "execution_count": 9,
     "metadata": {},
     "output_type": "execute_result"
    }
   ],
   "source": [
    "def sleep_in(weekday, vacation):\n",
    "    if not weekday or vacation:\n",
    "        return True\n",
    "    else:\n",
    "        return False\n",
    "sleep_in(False,True)"
   ]
  },
  {
   "cell_type": "markdown",
   "id": "54504f4c",
   "metadata": {},
   "source": [
    "2.We have twom monkeys, a and b, and the parameters a_smile and b_smile indicate if each is smiling. We are in trouble if they are both smiling or if neither of them is smiling. Return True if we are in trouble."
   ]
  },
  {
   "cell_type": "code",
   "execution_count": 11,
   "id": "5a4b390b",
   "metadata": {},
   "outputs": [
    {
     "data": {
      "text/plain": [
       "False"
      ]
     },
     "execution_count": 11,
     "metadata": {},
     "output_type": "execute_result"
    }
   ],
   "source": [
    "def monkey_trouble(a_smile, b_smile):\n",
    "    if a_smile == b_smile:\n",
    "        return True\n",
    "    else:\n",
    "        return False\n",
    "monkey_trouble(True,False)"
   ]
  },
  {
   "cell_type": "markdown",
   "id": "6dccaf6d",
   "metadata": {},
   "source": [
    "3.Given two int values, return their sum. Unless the two values are the same, then return double their sum."
   ]
  },
  {
   "cell_type": "code",
   "execution_count": 12,
   "id": "36b590be",
   "metadata": {},
   "outputs": [
    {
     "data": {
      "text/plain": [
       "12"
      ]
     },
     "execution_count": 12,
     "metadata": {},
     "output_type": "execute_result"
    }
   ],
   "source": [
    "def sum_double(a, b):\n",
    "    if a==b:\n",
    "        return (a+b)*2\n",
    "      else:\n",
    "        return a+b\n",
    "sum_double(3,3)"
   ]
  },
  {
   "cell_type": "markdown",
   "id": "a51c2dd2",
   "metadata": {},
   "source": [
    "4.Given an int n, return the absolute difference between n and 21, except return double the absolute difference if n is over 21."
   ]
  },
  {
   "cell_type": "code",
   "execution_count": 19,
   "id": "18a1550b",
   "metadata": {},
   "outputs": [
    {
     "data": {
      "text/plain": [
       "48"
      ]
     },
     "execution_count": 19,
     "metadata": {},
     "output_type": "execute_result"
    }
   ],
   "source": [
    "def diff21(n):\n",
    "    if n<=21:\n",
    "        return (21-n)\n",
    "    else:\n",
    "        value = (21-n)\n",
    "        return abs(value*2)\n",
    "diff21(45)"
   ]
  },
  {
   "cell_type": "markdown",
   "id": "c9786dd0",
   "metadata": {},
   "source": [
    "5.We have a loud talking parrot. The \"hour\" parameter is the current hour time in the range 0..23. We are in trouble if the parrot is talking and the hour is before 7 or after 20. Return True if we are in trouble."
   ]
  },
  {
   "cell_type": "code",
   "execution_count": 4,
   "id": "ca46252e",
   "metadata": {},
   "outputs": [
    {
     "data": {
      "text/plain": [
       "True"
      ]
     },
     "execution_count": 4,
     "metadata": {},
     "output_type": "execute_result"
    }
   ],
   "source": [
    "def parrot_trouble(talking, hour):\n",
    "  return (talking and (hour < 7 or hour > 20))\n",
    "parrot_trouble(True,23)"
   ]
  },
  {
   "cell_type": "markdown",
   "id": "ffc9f70e",
   "metadata": {},
   "source": [
    "6.Given 2 ints, a and b, return True if one if them is 10 or if their sum is 10."
   ]
  },
  {
   "cell_type": "code",
   "execution_count": 1,
   "id": "65ce2975",
   "metadata": {},
   "outputs": [
    {
     "data": {
      "text/plain": [
       "False"
      ]
     },
     "execution_count": 1,
     "metadata": {},
     "output_type": "execute_result"
    }
   ],
   "source": [
    "def makes10(a, b):\n",
    "    return  (a == 10 or b == 10 or a+b==10)\n",
    "makes10(8,3)"
   ]
  },
  {
   "cell_type": "markdown",
   "id": "fb0215f7",
   "metadata": {},
   "source": [
    "7.Given an int n, return True if it is within 10 of 100 or 200. Note: abs(num) computes the absolute value of a number."
   ]
  },
  {
   "cell_type": "code",
   "execution_count": 2,
   "id": "e3d683d7",
   "metadata": {},
   "outputs": [
    {
     "data": {
      "text/plain": [
       "False"
      ]
     },
     "execution_count": 2,
     "metadata": {},
     "output_type": "execute_result"
    }
   ],
   "source": [
    "def near_hundred(n):\n",
    "    return n>89 and n<=110 or n>=190 and n<=210\n",
    "near_hundred(165)"
   ]
  },
  {
   "cell_type": "markdown",
   "id": "293299ce",
   "metadata": {},
   "source": [
    "8.Given 2 int values, return True if one is negative and one is positive. Except if the parameter \"negative\" is True, then return True only if both are negative."
   ]
  },
  {
   "cell_type": "code",
   "execution_count": 5,
   "id": "f46ea40e",
   "metadata": {},
   "outputs": [
    {
     "data": {
      "text/plain": [
       "False"
      ]
     },
     "execution_count": 5,
     "metadata": {},
     "output_type": "execute_result"
    }
   ],
   "source": [
    "def pos_neg(a, b, negative):\n",
    "    if negative:\n",
    "        return a<0 and b<0\n",
    "    else:\n",
    "        return ((a<0 and b>0) or (a>0 and b<0))\n",
    "pos_neg(-5,4,True)"
   ]
  },
  {
   "cell_type": "markdown",
   "id": "e10ad4c4",
   "metadata": {},
   "source": [
    "9.Given a string, return a new string where \"not \" has been added to the front. However, if the string already begins with \"not\", return the string unchanged."
   ]
  },
  {
   "cell_type": "code",
   "execution_count": 8,
   "id": "f3d1838a",
   "metadata": {},
   "outputs": [
    {
     "data": {
      "text/plain": [
       "'not'"
      ]
     },
     "execution_count": 8,
     "metadata": {},
     "output_type": "execute_result"
    }
   ],
   "source": [
    "def not_string(str):\n",
    "    if len(str)>=3 and str[:3]=='not':\n",
    "        return str\n",
    "    else:\n",
    "        return \"not \"+str\n",
    "not_string(\"not\")"
   ]
  },
  {
   "cell_type": "markdown",
   "id": "65647978",
   "metadata": {},
   "source": [
    "10.Given a non-empty string and an int n, return a new string where the char at index n has been removed. The value of n will be a valid index of a char in the original string (i.e. n will be in the range 0..len(str)-1 inclusive)."
   ]
  },
  {
   "cell_type": "code",
   "execution_count": 2,
   "id": "820e17c6",
   "metadata": {},
   "outputs": [
    {
     "data": {
      "text/plain": [
       "'sultn'"
      ]
     },
     "execution_count": 2,
     "metadata": {},
     "output_type": "execute_result"
    }
   ],
   "source": [
    "def missing_char(str, n):\n",
    "    return str[0:n:]+str[n+1::]\n",
    "missing_char(\"sultan\",4)"
   ]
  },
  {
   "cell_type": "markdown",
   "id": "4626fcbc",
   "metadata": {},
   "source": [
    "11.Given a string, return a new string where the first and last chars have been exchanged."
   ]
  },
  {
   "cell_type": "code",
   "execution_count": 4,
   "id": "8ebae977",
   "metadata": {},
   "outputs": [
    {
     "data": {
      "text/plain": [
       "'ticrosofM'"
      ]
     },
     "execution_count": 4,
     "metadata": {},
     "output_type": "execute_result"
    }
   ],
   "source": [
    "def front_back(str):\n",
    "    if len(str)<=1:\n",
    "        return str\n",
    "    else:\n",
    "        mid = str[1:len(str)-1]\n",
    "        return str[len(str)-1] + mid + str[0]\n",
    "front_back('Microsoft')"
   ]
  },
  {
   "cell_type": "raw",
   "id": "61bae175",
   "metadata": {},
   "source": [
    "12.Given a string, we'll say that the front is the first 3 chars of the string. If the string length is less than 3, the front is whatever is there. Return a new string which is 3 copies of the front."
   ]
  },
  {
   "cell_type": "code",
   "execution_count": 7,
   "id": "3f10da71",
   "metadata": {},
   "outputs": [
    {
     "data": {
      "text/plain": [
       "'GooGooGoo'"
      ]
     },
     "execution_count": 7,
     "metadata": {},
     "output_type": "execute_result"
    }
   ],
   "source": [
    "def front3(str):\n",
    "    return str[:3]*3\n",
    "front3(\"Google\")"
   ]
  }
 ],
 "metadata": {
  "kernelspec": {
   "display_name": "Python 3 (ipykernel)",
   "language": "python",
   "name": "python3"
  },
  "language_info": {
   "codemirror_mode": {
    "name": "ipython",
    "version": 3
   },
   "file_extension": ".py",
   "mimetype": "text/x-python",
   "name": "python",
   "nbconvert_exporter": "python",
   "pygments_lexer": "ipython3",
   "version": "3.9.12"
  }
 },
 "nbformat": 4,
 "nbformat_minor": 5
}
