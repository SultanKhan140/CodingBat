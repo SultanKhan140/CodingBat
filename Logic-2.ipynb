{
 "cells": [
  {
   "cell_type": "markdown",
   "id": "e0d71ec8",
   "metadata": {},
   "source": [
    "1.We want to make a row of bricks that is goal inches long. We have a number of small bricks (1 inch each) and big bricks (5 inches each). Return True if it is possible to make the goal by choosing from the given bricks. This is a little harder than it looks and can be done without any loops"
   ]
  },
  {
   "cell_type": "code",
   "execution_count": 1,
   "id": "16552d40",
   "metadata": {},
   "outputs": [
    {
     "data": {
      "text/plain": [
       "True"
      ]
     },
     "execution_count": 1,
     "metadata": {},
     "output_type": "execute_result"
    }
   ],
   "source": [
    "def make_bricks(small, big, goal):\n",
    "    if goal > small + big * 5:\n",
    "        return False\n",
    "    else:\n",
    "        return goal % 5 <= small\n",
    "make_bricks(3, 2, 10)"
   ]
  },
  {
   "cell_type": "markdown",
   "id": "0414e6c4",
   "metadata": {},
   "source": [
    "2.Given 3 int values, a b c, return their sum. However, if one of the values is the same as another of the values, it does not count towards the sum.m"
   ]
  },
  {
   "cell_type": "code",
   "execution_count": 2,
   "id": "7f58a5cf",
   "metadata": {},
   "outputs": [
    {
     "data": {
      "text/plain": [
       "5"
      ]
     },
     "execution_count": 2,
     "metadata": {},
     "output_type": "execute_result"
    }
   ],
   "source": [
    "def lone_sum(a, b, c):\n",
    "    if a==b==c:\n",
    "        return 0\n",
    "    if a!=b==c:\n",
    "        return a\n",
    "    if a==b!=c:\n",
    "        return c\n",
    "    if a==c!=b:\n",
    "        return b\n",
    "    else:\n",
    "        return a+b+c\n",
    "lone_sum(3, 5, 3)"
   ]
  },
  {
   "cell_type": "markdown",
   "id": "53689c71",
   "metadata": {},
   "source": [
    "3.Given 3 int values, a b c, return their sum. However, if one of the values is 13 then it does not count towards the sum and values to its right do not count. So for example, if b is 13, then both b and c do not count."
   ]
  },
  {
   "cell_type": "code",
   "execution_count": 6,
   "id": "8cada81e",
   "metadata": {},
   "outputs": [
    {
     "data": {
      "text/plain": [
       "8"
      ]
     },
     "execution_count": 6,
     "metadata": {},
     "output_type": "execute_result"
    }
   ],
   "source": [
    "def lucky_sum(a, b, c):\n",
    "    if a==13:\n",
    "        return 0\n",
    "    if b==13:\n",
    "        return a\n",
    "    if c==13:\n",
    "        return (a+b)\n",
    "    else:\n",
    "        return(a+b+c)\n",
    "lucky_sum(8, 13, 2)"
   ]
  },
  {
   "cell_type": "markdown",
   "id": "35c0a876",
   "metadata": {},
   "source": [
    "4.Given 3 int values, a b c, return their sum. However, if any of the values is a teen -- in the range 13..19 inclusive -- then that value counts as 0, except 15 and 16 do not count as a teens. Write a separate helper \"def fix_teen(n):\"that takes in an int value and returns that value fixed for the teen rule. In this way, you avoid repeating the teen code 3 times (i.e. \"decomposition\"). Define the helper below and at the same indent level as the main no_teen_sum()."
   ]
  },
  {
   "cell_type": "code",
   "execution_count": 7,
   "id": "d342a614",
   "metadata": {},
   "outputs": [
    {
     "data": {
      "text/plain": [
       "0"
      ]
     },
     "execution_count": 7,
     "metadata": {},
     "output_type": "execute_result"
    }
   ],
   "source": [
    "def no_teen_sum(a, b, c):\n",
    "    n=[13,14,17,18,19]\n",
    "    if a in n and b in n and c in n:\n",
    "        return 0\n",
    "    if a in n and b in n:\n",
    "        return c\n",
    "    if a in n and c in n:\n",
    "        return b\n",
    "    if c in n and b in n:\n",
    "        return a\n",
    "    if a in n:\n",
    "        return (b+c)\n",
    "    if b in n:\n",
    "        return (a+c)\n",
    "    if c in n:\n",
    "        return (a+b)\n",
    "    else:\n",
    "        return (a+b+c)\n",
    "no_teen_sum(17, 18, 19)"
   ]
  },
  {
   "cell_type": "markdown",
   "id": "f9d522f0",
   "metadata": {},
   "source": [
    "5.For this problem, we'll round an int value up to the next multiple of 10 if its rightmost digit is 5 or more, so 15 rounds up to 20. Alternately, round down to the previous multiple of 10 if its rightmost digit is less than 5, so 12 rounds down to 10. Given 3 ints, a b c, return the sum of their rounded values. To avoid code repetition, write a separate helper \"def round10(num):\" and call it 3 times. Write the helper entirely below and at the same indent level as round_sum()."
   ]
  },
  {
   "cell_type": "code",
   "execution_count": 25,
   "id": "b6bad081",
   "metadata": {},
   "outputs": [
    {
     "data": {
      "text/plain": [
       "100"
      ]
     },
     "execution_count": 25,
     "metadata": {},
     "output_type": "execute_result"
    }
   ],
   "source": [
    "def round_sum(a, b, c):\n",
    "    def round10(num):\n",
    "        return (num+5)//10*10\n",
    "    \n",
    "    return round10(a)+round10(b)+round10(c)\n",
    "round_sum(45, 21, 30)"
   ]
  },
  {
   "cell_type": "markdown",
   "id": "5685d79c",
   "metadata": {},
   "source": [
    "6.Given three ints, a b c, return True if one of b or c is \"close\" (differing from a by at most 1), while the other is \"far\", differing from both other values by 2 or more. Note: abs(num) computes the absolute value of a number."
   ]
  },
  {
   "cell_type": "code",
   "execution_count": 1,
   "id": "003b65a7",
   "metadata": {},
   "outputs": [
    {
     "data": {
      "text/plain": [
       "True"
      ]
     },
     "execution_count": 1,
     "metadata": {},
     "output_type": "execute_result"
    }
   ],
   "source": [
    "def close_far(a, b, c):\n",
    "    a_b_diff = abs(a - b)\n",
    "    a_c_diff = abs(a - c)\n",
    "    b_c_diff = abs(b - c)\n",
    "\n",
    "    return (a_b_diff <= 1 and a_c_diff >= 2 and b_c_diff >= 2) != (a_c_diff <= 1 and a_b_diff >= 2 and b_c_diff >= 2)\n",
    "close_far(0, -1, 10)"
   ]
  },
  {
   "cell_type": "markdown",
   "id": "40bab63b",
   "metadata": {},
   "source": [
    "7.We want make a package of goal kilos of chocolate. We have small bars (1 kilo each) and big bars (5 kilos each). Return the number of small bars to use, assuming we always use big bars before small bars. Return -1 if it can't be done."
   ]
  },
  {
   "cell_type": "code",
   "execution_count": 2,
   "id": "0db8e2a8",
   "metadata": {},
   "outputs": [
    {
     "data": {
      "text/plain": [
       "2"
      ]
     },
     "execution_count": 2,
     "metadata": {},
     "output_type": "execute_result"
    }
   ],
   "source": [
    "def make_chocolate(small, big, goal):\n",
    "    if goal >= 5 * big:\n",
    "        remainder = goal - 5 * big\n",
    "    else:\n",
    "        remainder = goal % 5\n",
    "        \n",
    "    if remainder <= small:\n",
    "        return remainder\n",
    "        \n",
    "    return -1\n",
    "make_chocolate(6, 2, 7)"
   ]
  }
 ],
 "metadata": {
  "kernelspec": {
   "display_name": "Python 3 (ipykernel)",
   "language": "python",
   "name": "python3"
  },
  "language_info": {
   "codemirror_mode": {
    "name": "ipython",
    "version": 3
   },
   "file_extension": ".py",
   "mimetype": "text/x-python",
   "name": "python",
   "nbconvert_exporter": "python",
   "pygments_lexer": "ipython3",
   "version": "3.9.12"
  }
 },
 "nbformat": 4,
 "nbformat_minor": 5
}
