{
 "cells": [
  {
   "cell_type": "raw",
   "id": "f67d4e5a",
   "metadata": {},
   "source": [
    "1.Given an array of ints, return True if 6 appears as either the first or last element in the array. The array will be length 1 or more."
   ]
  },
  {
   "cell_type": "code",
   "execution_count": 2,
   "id": "72abdb33",
   "metadata": {},
   "outputs": [
    {
     "data": {
      "text/plain": [
       "True"
      ]
     },
     "execution_count": 2,
     "metadata": {},
     "output_type": "execute_result"
    }
   ],
   "source": [
    "def first_last6(nums):\n",
    "    if nums[0]==6 or nums[-1]==6:\n",
    "        return True\n",
    "    else:\n",
    "        return False\n",
    "first_last6([1,3,5,6])"
   ]
  },
  {
   "cell_type": "markdown",
   "id": "6c35b988",
   "metadata": {},
   "source": [
    "2.Given an array of ints, return True if the array is length 1 or more, and the first element and the last element are equal."
   ]
  },
  {
   "cell_type": "code",
   "execution_count": 6,
   "id": "a96940c4",
   "metadata": {},
   "outputs": [
    {
     "data": {
      "text/plain": [
       "True"
      ]
     },
     "execution_count": 6,
     "metadata": {},
     "output_type": "execute_result"
    }
   ],
   "source": [
    "def same_first_last(nums):\n",
    "    return len(nums)>0 and nums[0]==nums[-1]\n",
    "same_first_last([1, 2, 3, 1])"
   ]
  },
  {
   "cell_type": "raw",
   "id": "eef0c85e",
   "metadata": {},
   "source": [
    "3.Return an int array length 3 containing the first 3 digits of pi, {3, 1, 4}."
   ]
  },
  {
   "cell_type": "code",
   "execution_count": 8,
   "id": "99bd6edd",
   "metadata": {},
   "outputs": [
    {
     "data": {
      "text/plain": [
       "[3, 1, 4]"
      ]
     },
     "execution_count": 8,
     "metadata": {},
     "output_type": "execute_result"
    }
   ],
   "source": [
    "def make_pi():\n",
    "    return [3,1,4]\n",
    "make_pi()"
   ]
  },
  {
   "cell_type": "raw",
   "id": "b5d33a0e",
   "metadata": {},
   "source": [
    "4.Given 2 arrays of ints, a and b, return True if they have the same first element or they have the same last element. Both arrays will be length 1 or more."
   ]
  },
  {
   "cell_type": "code",
   "execution_count": 9,
   "id": "16829ece",
   "metadata": {},
   "outputs": [
    {
     "data": {
      "text/plain": [
       "True"
      ]
     },
     "execution_count": 9,
     "metadata": {},
     "output_type": "execute_result"
    }
   ],
   "source": [
    "def common_end(a, b):\n",
    "    return a[0] == b[0] or a[-1] == b[-1]\n",
    "common_end([1, 2, 3], [1, 3])"
   ]
  },
  {
   "cell_type": "raw",
   "id": "99d545cb",
   "metadata": {},
   "source": [
    "5.Given an array of ints length 3, return the sum of all the elements."
   ]
  },
  {
   "cell_type": "code",
   "execution_count": 10,
   "id": "961866be",
   "metadata": {},
   "outputs": [
    {
     "data": {
      "text/plain": [
       "18"
      ]
     },
     "execution_count": 10,
     "metadata": {},
     "output_type": "execute_result"
    }
   ],
   "source": [
    "def sum3(nums):\n",
    "    return sum(nums)\n",
    "sum3([5, 11, 2])"
   ]
  },
  {
   "cell_type": "raw",
   "id": "0c51542a",
   "metadata": {},
   "source": [
    "6.Given an array of ints length 3, return an array with the elements \"rotated left\" so {1, 2, 3} yields {2, 3, 1}."
   ]
  },
  {
   "cell_type": "code",
   "execution_count": 11,
   "id": "23ab392b",
   "metadata": {},
   "outputs": [
    {
     "data": {
      "text/plain": [
       "[11, 9, 5]"
      ]
     },
     "execution_count": 11,
     "metadata": {},
     "output_type": "execute_result"
    }
   ],
   "source": [
    "def rotate_left3(nums):\n",
    "    return [nums[1],nums[2],nums[0]]\n",
    "rotate_left3([5, 11, 9])"
   ]
  },
  {
   "cell_type": "raw",
   "id": "b66ecd5f",
   "metadata": {},
   "source": [
    "7.Given an array of ints length 3, return a new array with the elements in reverse order, so {1, 2, 3} becomes {3, 2, 1}."
   ]
  },
  {
   "cell_type": "code",
   "execution_count": 12,
   "id": "9accf0af",
   "metadata": {},
   "outputs": [
    {
     "data": {
      "text/plain": [
       "[9, 11, 5]"
      ]
     },
     "execution_count": 12,
     "metadata": {},
     "output_type": "execute_result"
    }
   ],
   "source": [
    "def reverse3(nums):\n",
    "    return nums[::-1]\n",
    "reverse3([5, 11, 9])"
   ]
  },
  {
   "cell_type": "code",
   "execution_count": null,
   "id": "98ec2782",
   "metadata": {},
   "outputs": [],
   "source": []
  }
 ],
 "metadata": {
  "kernelspec": {
   "display_name": "Python 3 (ipykernel)",
   "language": "python",
   "name": "python3"
  },
  "language_info": {
   "codemirror_mode": {
    "name": "ipython",
    "version": 3
   },
   "file_extension": ".py",
   "mimetype": "text/x-python",
   "name": "python",
   "nbconvert_exporter": "python",
   "pygments_lexer": "ipython3",
   "version": "3.9.12"
  }
 },
 "nbformat": 4,
 "nbformat_minor": 5
}
