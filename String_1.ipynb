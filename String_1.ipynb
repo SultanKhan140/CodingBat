{
 "cells": [
  {
   "cell_type": "markdown",
   "id": "8e0ecf2c",
   "metadata": {},
   "source": [
    "1.Given a string name, e.g. \"Bob\", return a greeting of the form \"Hello Bob!\"."
   ]
  },
  {
   "cell_type": "code",
   "execution_count": 3,
   "id": "f3a90c15",
   "metadata": {},
   "outputs": [
    {
     "data": {
      "text/plain": [
       "'Hello Bob!'"
      ]
     },
     "execution_count": 3,
     "metadata": {},
     "output_type": "execute_result"
    }
   ],
   "source": [
    "def hello_name(name):\n",
    "    return \"Hello \"+name+\"!\"\n",
    "hello_name(\"Bob\")"
   ]
  },
  {
   "cell_type": "markdown",
   "id": "96a23cd9",
   "metadata": {},
   "source": [
    "2.Given two strings, a and b, return the result of putting them together in the order abba, e.g. \"Hi\" and \"Bye\" returns \"HiByeByeHi\"."
   ]
  },
  {
   "cell_type": "code",
   "execution_count": 4,
   "id": "ca7964fa",
   "metadata": {},
   "outputs": [
    {
     "data": {
      "text/plain": [
       "'hiBayBayhi'"
      ]
     },
     "execution_count": 4,
     "metadata": {},
     "output_type": "execute_result"
    }
   ],
   "source": [
    "def make_abba(a, b):\n",
    "    return a+b+b+a\n",
    "make_abba(\"hi\",\"Bay\")"
   ]
  },
  {
   "cell_type": "markdown",
   "id": "6939810e",
   "metadata": {},
   "source": [
    "3.The web is built with HTML strings like \"<i>Yay</i>\" which draws Yay as italic text. In this example, the \"i\" tag makes <i> and </i> which surround the word \"Yay\". Given tag and word strings, create the HTML string with tags around the word, e.g. \"<i>Yay</i>\"."
   ]
  },
  {
   "cell_type": "code",
   "execution_count": 5,
   "id": "a75dbb6e",
   "metadata": {},
   "outputs": [
    {
     "data": {
      "text/plain": [
       "'<i>Bay</i>'"
      ]
     },
     "execution_count": 5,
     "metadata": {},
     "output_type": "execute_result"
    }
   ],
   "source": [
    "def make_tags(tag, word):\n",
    "    return '<'+tag+'>'+word+'</'+tag+\">\"\n",
    "make_tags(\"i\",\"Bay\")"
   ]
  },
  {
   "cell_type": "markdown",
   "id": "6550be0f",
   "metadata": {},
   "source": [
    "4.Given an \"out\" string length 4, such as \"<<>>\", and a word, return a new string where the word is in the middle of the out string, e.g. \"<<word>>\"."
   ]
  },
  {
   "cell_type": "code",
   "execution_count": 6,
   "id": "9ddf5b42",
   "metadata": {},
   "outputs": [
    {
     "data": {
      "text/plain": [
       "'{{Python}}'"
      ]
     },
     "execution_count": 6,
     "metadata": {},
     "output_type": "execute_result"
    }
   ],
   "source": [
    "def make_out_word(out, word):\n",
    "    return out[:2]+word+out[2:4]\n",
    "make_out_word(\"{{}}\",\"Python\")"
   ]
  },
  {
   "cell_type": "markdown",
   "id": "27b4ae39",
   "metadata": {},
   "source": [
    "5.Given a string, return a new string made of 3 copies of the last 2 chars of the original string. The string length will be at least 2."
   ]
  },
  {
   "cell_type": "code",
   "execution_count": 7,
   "id": "88681768",
   "metadata": {},
   "outputs": [
    {
     "data": {
      "text/plain": [
       "'lololo'"
      ]
     },
     "execution_count": 7,
     "metadata": {},
     "output_type": "execute_result"
    }
   ],
   "source": [
    "def extra_end(str):\n",
    "    return str[-2:]*3\n",
    "extra_end(\"Hello\")"
   ]
  },
  {
   "cell_type": "markdown",
   "id": "c1b8e031",
   "metadata": {},
   "source": [
    "6.Given a string, return the string made of its first two chars, so the String \"Hello\" yields \"He\". If the string is shorter than length 2, return whatever there is, so \"X\" yields \"X\", and the empty string \"\" yields the empty string \"\"."
   ]
  },
  {
   "cell_type": "code",
   "execution_count": 8,
   "id": "6b3eb07c",
   "metadata": {},
   "outputs": [
    {
     "data": {
      "text/plain": [
       "'Py'"
      ]
     },
     "execution_count": 8,
     "metadata": {},
     "output_type": "execute_result"
    }
   ],
   "source": [
    "def first_two(str):\n",
    "    return str[:2]\n",
    "first_two(\"Python\")"
   ]
  },
  {
   "cell_type": "markdown",
   "id": "857fabca",
   "metadata": {},
   "source": [
    "7.Given a string of even length, return the first half. So the string \"WooHoo\" yields \"Woo\"."
   ]
  },
  {
   "cell_type": "code",
   "execution_count": 9,
   "id": "bd407dcf",
   "metadata": {},
   "outputs": [
    {
     "data": {
      "text/plain": [
       "'Python'"
      ]
     },
     "execution_count": 9,
     "metadata": {},
     "output_type": "execute_result"
    }
   ],
   "source": [
    "def first_half(str):\n",
    "    str_1=len(str)//2\n",
    "    return str[:str_1]\n",
    "first_half(\"Python Django\")"
   ]
  },
  {
   "cell_type": "markdown",
   "id": "30506e96",
   "metadata": {},
   "source": [
    "8.Given a string, return a version without the first and last char, so \"Hello\" yields \"ell\". The string length will be at least 2."
   ]
  },
  {
   "cell_type": "code",
   "execution_count": 11,
   "id": "7a737989",
   "metadata": {},
   "outputs": [
    {
     "data": {
      "text/plain": [
       "'ytho'"
      ]
     },
     "execution_count": 11,
     "metadata": {},
     "output_type": "execute_result"
    }
   ],
   "source": [
    "def without_end(str):\n",
    "    return str[1:-1]\n",
    "without_end(\"Python\")"
   ]
  },
  {
   "cell_type": "markdown",
   "id": "e857b322",
   "metadata": {},
   "source": [
    "9.Given 2 strings, a and b, return a string of the form short+long+short, with the shorter string on the outside and the longer string on the inside. The strings will not be the same length, but they may be empty (length 0)."
   ]
  },
  {
   "cell_type": "code",
   "execution_count": 13,
   "id": "5b59eba8",
   "metadata": {},
   "outputs": [
    {
     "data": {
      "text/plain": [
       "'PyPythonPy'"
      ]
     },
     "execution_count": 13,
     "metadata": {},
     "output_type": "execute_result"
    }
   ],
   "source": [
    "def combo_string(a, b):\n",
    "    if len(a)<len(b):\n",
    "        return a+b+a\n",
    "    else:\n",
    "        return b+a+b\n",
    "combo_string(\"Python\",\"Py\")"
   ]
  },
  {
   "cell_type": "markdown",
   "id": "43af7193",
   "metadata": {},
   "source": [
    "10.Given 2 strings, return their concatenation, except omit the first char of each. The strings will be at least length "
   ]
  },
  {
   "cell_type": "code",
   "execution_count": 15,
   "id": "c8b37386",
   "metadata": {},
   "outputs": [
    {
     "data": {
      "text/plain": [
       "'ythonjango'"
      ]
     },
     "execution_count": 15,
     "metadata": {},
     "output_type": "execute_result"
    }
   ],
   "source": [
    "def non_start(a, b):\n",
    "    return a[1:]+b[1:]\n",
    "non_start(\"Python\",\"Django\")"
   ]
  },
  {
   "cell_type": "markdown",
   "id": "d12c9828",
   "metadata": {},
   "source": [
    "11.Given a string, return a \"rotated left 2\" version where the first 2 chars are moved to the end. The string length will be at least 2."
   ]
  },
  {
   "cell_type": "code",
   "execution_count": 16,
   "id": "c56256ad",
   "metadata": {},
   "outputs": [
    {
     "data": {
      "text/plain": [
       "'ringSt'"
      ]
     },
     "execution_count": 16,
     "metadata": {},
     "output_type": "execute_result"
    }
   ],
   "source": [
    "def left2(str):\n",
    "    if len(str)>2:\n",
    "        return str[2:]+str[0:2]\n",
    "    return str\n",
    "left2(\"String\")"
   ]
  }
 ],
 "metadata": {
  "kernelspec": {
   "display_name": "Python 3 (ipykernel)",
   "language": "python",
   "name": "python3"
  },
  "language_info": {
   "codemirror_mode": {
    "name": "ipython",
    "version": 3
   },
   "file_extension": ".py",
   "mimetype": "text/x-python",
   "name": "python",
   "nbconvert_exporter": "python",
   "pygments_lexer": "ipython3",
   "version": "3.9.12"
  }
 },
 "nbformat": 4,
 "nbformat_minor": 5
}
