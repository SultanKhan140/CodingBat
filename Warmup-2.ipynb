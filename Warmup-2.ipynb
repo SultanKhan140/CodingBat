{
 "cells": [
  {
   "cell_type": "raw",
   "id": "e9dc56c2",
   "metadata": {},
   "source": [
    "1.Given a string, we'll say that the front is the first 3 chars of the string. If the string length is less than 3, the front is whatever is there. Return a new string which is 3 copies of the front."
   ]
  },
  {
   "cell_type": "code",
   "execution_count": 1,
   "id": "a950b888",
   "metadata": {},
   "outputs": [
    {
     "data": {
      "text/plain": [
       "'LogitechLogitechLogitechLogitech'"
      ]
     },
     "execution_count": 1,
     "metadata": {},
     "output_type": "execute_result"
    }
   ],
   "source": [
    "def string_times(str, n):\n",
    "    return str*n\n",
    "string_times(\"Logitech\",4)"
   ]
  },
  {
   "cell_type": "raw",
   "id": "8438cede",
   "metadata": {},
   "source": [
    "2.Given a string and a non-negative int n, we'll say that the front of the string is the first 3 chars, or whatever is there if the string is less than length 3. Return n copies of the front;"
   ]
  },
  {
   "cell_type": "code",
   "execution_count": 2,
   "id": "965b5aa1",
   "metadata": {},
   "outputs": [],
   "source": [
    "def string_times(str, n):\n",
    "    return str*n"
   ]
  },
  {
   "cell_type": "raw",
   "id": "7d064da2",
   "metadata": {},
   "source": [
    "3.Given a string, return a new string made of every other char starting with the first, so \"Hello\" yields \"Hlo\"."
   ]
  },
  {
   "cell_type": "code",
   "execution_count": 9,
   "id": "6153ece4",
   "metadata": {},
   "outputs": [
    {
     "data": {
      "text/plain": [
       "'Bsebl'"
      ]
     },
     "execution_count": 9,
     "metadata": {},
     "output_type": "execute_result"
    }
   ],
   "source": [
    "def string_bits(str):\n",
    "    res =\"\"\n",
    "    for i in range(len(str)):\n",
    "        if i % 2 == 0:\n",
    "            res = res + str[i]\n",
    "    return res\n",
    "string_bits(\"Basketball\")"
   ]
  },
  {
   "cell_type": "raw",
   "id": "6a102db7",
   "metadata": {},
   "source": [
    "4.Given a non-empty string like \"Code\" return a string like \"CCoCodCode\"."
   ]
  },
  {
   "cell_type": "code",
   "execution_count": 40,
   "id": "30fcb458",
   "metadata": {},
   "outputs": [
    {
     "data": {
      "text/plain": [
       "'aababc'"
      ]
     },
     "execution_count": 40,
     "metadata": {},
     "output_type": "execute_result"
    }
   ],
   "source": [
    "def string_splosion(str):\n",
    "    result = \"\"\n",
    "    if len(str)<2:\n",
    "        return str\n",
    "    elif len(str)>1:\n",
    "        for i in range(len(str)):\n",
    "            result=result+str[:i+1]\n",
    "    return result\n",
    "string_splosion(\"abc\")"
   ]
  },
  {
   "cell_type": "raw",
   "id": "2ac4abe6",
   "metadata": {},
   "source": [
    "5.Given a string, return the count of the number of times that a substring length 2 appears in the string and also as the last 2 chars of the string, so \"hixxxhi\" yields 1 (we won't count the end substring)."
   ]
  },
  {
   "cell_type": "code",
   "execution_count": 20,
   "id": "d6eee9c6",
   "metadata": {},
   "outputs": [
    {
     "data": {
      "text/plain": [
       "3"
      ]
     },
     "execution_count": 20,
     "metadata": {},
     "output_type": "execute_result"
    }
   ],
   "source": [
    "def last2(str):\n",
    "\n",
    "    if len(str) < 2:\n",
    "        return 0\n",
    "    last2 = str[len(str)-2:]\n",
    "    count = 0\n",
    "    for i in range(len(str)-2):\n",
    "        sub = str[i:i+2]\n",
    "        if sub == last2:\n",
    "            count = count + 1\n",
    "    return count\n",
    "last2('xxaxxaxxaxx')"
   ]
  },
  {
   "cell_type": "raw",
   "id": "cf85013d",
   "metadata": {},
   "source": [
    "6.Given an array of ints, return the number of 9's in the array."
   ]
  },
  {
   "cell_type": "code",
   "execution_count": 44,
   "id": "dca4dbfb",
   "metadata": {},
   "outputs": [
    {
     "data": {
      "text/plain": [
       "3"
      ]
     },
     "execution_count": 44,
     "metadata": {},
     "output_type": "execute_result"
    }
   ],
   "source": [
    "def array_count9(nums):\n",
    "    return nums.count(9)\n",
    "array_count9([4,6,9,2,9,2,9])"
   ]
  },
  {
   "cell_type": "raw",
   "id": "ef292ef7",
   "metadata": {},
   "source": [
    "7.Given an array of ints, return True if one of the first 4 elements in the array is a 9. The array length may be less than 4."
   ]
  },
  {
   "cell_type": "code",
   "execution_count": 3,
   "id": "05a59a9b",
   "metadata": {},
   "outputs": [
    {
     "data": {
      "text/plain": [
       "True"
      ]
     },
     "execution_count": 3,
     "metadata": {},
     "output_type": "execute_result"
    }
   ],
   "source": [
    "def array_front9(nums):\n",
    "    end = len(nums)\n",
    "    if end > 4:\n",
    "        end = 4\n",
    "    for i in range(end):\n",
    "        if nums[i] == 9:\n",
    "            return True\n",
    "    return False\n",
    "array_front9([1,4,3,9])"
   ]
  },
  {
   "cell_type": "raw",
   "id": "3ed2e54b",
   "metadata": {},
   "source": [
    "8.Given an array of ints, return True if the sequence of numbers 1, 2, 3 appears in the array somewhere."
   ]
  },
  {
   "cell_type": "code",
   "execution_count": 2,
   "id": "1b64bf0f",
   "metadata": {},
   "outputs": [
    {
     "data": {
      "text/plain": [
       "True"
      ]
     },
     "execution_count": 2,
     "metadata": {},
     "output_type": "execute_result"
    }
   ],
   "source": [
    "def array123(nums):\n",
    "    for i in range(len(nums)-2):\n",
    "        if nums[i]==1 and nums[i+1]==2 and nums[i+2]==3:\n",
    "            return True\n",
    "    return False\n",
    "array123([1,2,3,1,2,5])"
   ]
  },
  {
   "cell_type": "markdown",
   "id": "ba9c19f0",
   "metadata": {},
   "source": [
    "9.Given 2 strings, a and b, return the number of the positions where they contain the same length 2 substring. So \"xxcaazz\" and \"xxbaaz\" yields 3, since the \"xx\", \"aa\", and \"az\" substrings appear in the same place in both strings."
   ]
  },
  {
   "cell_type": "code",
   "execution_count": 6,
   "id": "95bbe620",
   "metadata": {},
   "outputs": [
    {
     "data": {
      "text/plain": [
       "3"
      ]
     },
     "execution_count": 6,
     "metadata": {},
     "output_type": "execute_result"
    }
   ],
   "source": [
    "def string_match(a, b):\n",
    "    count = 0\n",
    "    short = min(len(a), len(b))\n",
    "    for i in range(short - 1):\n",
    "        if a[i:i+2] == b[i:i+2]:\n",
    "            count += 1\n",
    "    return count\n",
    "string_match('iaxxai', 'aaxxaaxx')"
   ]
  }
 ],
 "metadata": {
  "kernelspec": {
   "display_name": "Python 3 (ipykernel)",
   "language": "python",
   "name": "python3"
  },
  "language_info": {
   "codemirror_mode": {
    "name": "ipython",
    "version": 3
   },
   "file_extension": ".py",
   "mimetype": "text/x-python",
   "name": "python",
   "nbconvert_exporter": "python",
   "pygments_lexer": "ipython3",
   "version": "3.9.12"
  }
 },
 "nbformat": 4,
 "nbformat_minor": 5
}
